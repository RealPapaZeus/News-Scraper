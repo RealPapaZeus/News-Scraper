{
  "nbformat": 4,
  "nbformat_minor": 0,
  "metadata": {
    "colab": {
      "provenance": [],
      "authorship_tag": "ABX9TyOIYK6PYMO7Zd4f5N7OIJa7",
      "include_colab_link": true
    },
    "kernelspec": {
      "name": "python3",
      "display_name": "Python 3"
    },
    "language_info": {
      "name": "python"
    }
  },
  "cells": [
    {
      "cell_type": "markdown",
      "metadata": {
        "id": "view-in-github",
        "colab_type": "text"
      },
      "source": [
        "<a href=\"https://colab.research.google.com/github/RealPapaZeus/News-Scraper/blob/main/news_extract.ipynb\" target=\"_parent\"><img src=\"https://colab.research.google.com/assets/colab-badge.svg\" alt=\"Open In Colab\"/></a>"
      ]
    },
    {
      "cell_type": "markdown",
      "source": [
        "# Start"
      ],
      "metadata": {
        "id": "xk7BYfZMVRf7"
      }
    },
    {
      "cell_type": "code",
      "source": [
        "import os\n",
        "\n",
        "os.environ[\"AGENTQL_API_KEY\"]=\"efeqQVTHCP2KpSsoi49ay0rp-Okv92Q-ZzZ3uxT1aZITZLDK7L7pTg\""
      ],
      "metadata": {
        "id": "oY2uOsRuRlu1"
      },
      "execution_count": 3,
      "outputs": []
    },
    {
      "cell_type": "code",
      "source": [
        "!pip install agentql playwright nest_asyncio pandas openpyxl\n",
        "!pip install playwright\n",
        "!playwright install\n",
        "!playwright install-deps"
      ],
      "metadata": {
        "colab": {
          "base_uri": "https://localhost:8080/"
        },
        "id": "bLxjozPgGuVT",
        "outputId": "834d615f-1a97-4c06-d8bd-0f99541515eb"
      },
      "execution_count": 4,
      "outputs": [
        {
          "output_type": "stream",
          "name": "stdout",
          "text": [
            "Requirement already satisfied: agentql in /usr/local/lib/python3.11/dist-packages (1.9.2)\n",
            "Requirement already satisfied: playwright in /usr/local/lib/python3.11/dist-packages (1.51.0)\n",
            "Requirement already satisfied: nest_asyncio in /usr/local/lib/python3.11/dist-packages (1.6.0)\n",
            "Requirement already satisfied: pandas in /usr/local/lib/python3.11/dist-packages (2.2.2)\n",
            "Requirement already satisfied: openpyxl in /usr/local/lib/python3.11/dist-packages (3.1.5)\n",
            "Requirement already satisfied: aiofiles<24,>=23 in /usr/local/lib/python3.11/dist-packages (from agentql) (23.2.1)\n",
            "Requirement already satisfied: colorama<1.0.0,>=0.4.6 in /usr/local/lib/python3.11/dist-packages (from agentql) (0.4.6)\n",
            "Requirement already satisfied: httpx<1.0.0,>=0.23.0 in /usr/local/lib/python3.11/dist-packages (from agentql) (0.28.1)\n",
            "Requirement already satisfied: pydantic<3,>=2 in /usr/local/lib/python3.11/dist-packages (from agentql) (2.11.0)\n",
            "Requirement already satisfied: pytest-asyncio<1,>=0 in /usr/local/lib/python3.11/dist-packages (from agentql) (0.26.0)\n",
            "Requirement already satisfied: requests<3,>=2 in /usr/local/lib/python3.11/dist-packages (from agentql) (2.32.3)\n",
            "Requirement already satisfied: tf-playwright-stealth in /usr/local/lib/python3.11/dist-packages (from agentql) (1.1.2)\n",
            "Requirement already satisfied: typer<1,>=0 in /usr/local/lib/python3.11/dist-packages (from agentql) (0.15.2)\n",
            "Requirement already satisfied: pyee<13,>=12 in /usr/local/lib/python3.11/dist-packages (from playwright) (12.1.1)\n",
            "Requirement already satisfied: greenlet<4.0.0,>=3.1.1 in /usr/local/lib/python3.11/dist-packages (from playwright) (3.1.1)\n",
            "Requirement already satisfied: numpy>=1.23.2 in /usr/local/lib/python3.11/dist-packages (from pandas) (2.0.2)\n",
            "Requirement already satisfied: python-dateutil>=2.8.2 in /usr/local/lib/python3.11/dist-packages (from pandas) (2.8.2)\n",
            "Requirement already satisfied: pytz>=2020.1 in /usr/local/lib/python3.11/dist-packages (from pandas) (2025.2)\n",
            "Requirement already satisfied: tzdata>=2022.7 in /usr/local/lib/python3.11/dist-packages (from pandas) (2025.2)\n",
            "Requirement already satisfied: et-xmlfile in /usr/local/lib/python3.11/dist-packages (from openpyxl) (2.0.0)\n",
            "Requirement already satisfied: anyio in /usr/local/lib/python3.11/dist-packages (from httpx<1.0.0,>=0.23.0->agentql) (4.9.0)\n",
            "Requirement already satisfied: certifi in /usr/local/lib/python3.11/dist-packages (from httpx<1.0.0,>=0.23.0->agentql) (2025.1.31)\n",
            "Requirement already satisfied: httpcore==1.* in /usr/local/lib/python3.11/dist-packages (from httpx<1.0.0,>=0.23.0->agentql) (1.0.7)\n",
            "Requirement already satisfied: idna in /usr/local/lib/python3.11/dist-packages (from httpx<1.0.0,>=0.23.0->agentql) (3.10)\n",
            "Requirement already satisfied: h11<0.15,>=0.13 in /usr/local/lib/python3.11/dist-packages (from httpcore==1.*->httpx<1.0.0,>=0.23.0->agentql) (0.14.0)\n",
            "Requirement already satisfied: annotated-types>=0.6.0 in /usr/local/lib/python3.11/dist-packages (from pydantic<3,>=2->agentql) (0.7.0)\n",
            "Requirement already satisfied: pydantic-core==2.33.0 in /usr/local/lib/python3.11/dist-packages (from pydantic<3,>=2->agentql) (2.33.0)\n",
            "Requirement already satisfied: typing-extensions>=4.12.2 in /usr/local/lib/python3.11/dist-packages (from pydantic<3,>=2->agentql) (4.13.0)\n",
            "Requirement already satisfied: typing-inspection>=0.4.0 in /usr/local/lib/python3.11/dist-packages (from pydantic<3,>=2->agentql) (0.4.0)\n",
            "Requirement already satisfied: pytest<9,>=8.2 in /usr/local/lib/python3.11/dist-packages (from pytest-asyncio<1,>=0->agentql) (8.3.5)\n",
            "Requirement already satisfied: six>=1.5 in /usr/local/lib/python3.11/dist-packages (from python-dateutil>=2.8.2->pandas) (1.17.0)\n",
            "Requirement already satisfied: charset-normalizer<4,>=2 in /usr/local/lib/python3.11/dist-packages (from requests<3,>=2->agentql) (3.4.1)\n",
            "Requirement already satisfied: urllib3<3,>=1.21.1 in /usr/local/lib/python3.11/dist-packages (from requests<3,>=2->agentql) (2.3.0)\n",
            "Requirement already satisfied: click>=8.0.0 in /usr/local/lib/python3.11/dist-packages (from typer<1,>=0->agentql) (8.1.8)\n",
            "Requirement already satisfied: shellingham>=1.3.0 in /usr/local/lib/python3.11/dist-packages (from typer<1,>=0->agentql) (1.5.4)\n",
            "Requirement already satisfied: rich>=10.11.0 in /usr/local/lib/python3.11/dist-packages (from typer<1,>=0->agentql) (13.9.4)\n",
            "Requirement already satisfied: fake-http-header<0.4.0,>=0.3.5 in /usr/local/lib/python3.11/dist-packages (from tf-playwright-stealth->agentql) (0.3.5)\n",
            "Requirement already satisfied: iniconfig in /usr/local/lib/python3.11/dist-packages (from pytest<9,>=8.2->pytest-asyncio<1,>=0->agentql) (2.1.0)\n",
            "Requirement already satisfied: packaging in /usr/local/lib/python3.11/dist-packages (from pytest<9,>=8.2->pytest-asyncio<1,>=0->agentql) (24.2)\n",
            "Requirement already satisfied: pluggy<2,>=1.5 in /usr/local/lib/python3.11/dist-packages (from pytest<9,>=8.2->pytest-asyncio<1,>=0->agentql) (1.5.0)\n",
            "Requirement already satisfied: markdown-it-py>=2.2.0 in /usr/local/lib/python3.11/dist-packages (from rich>=10.11.0->typer<1,>=0->agentql) (3.0.0)\n",
            "Requirement already satisfied: pygments<3.0.0,>=2.13.0 in /usr/local/lib/python3.11/dist-packages (from rich>=10.11.0->typer<1,>=0->agentql) (2.18.0)\n",
            "Requirement already satisfied: sniffio>=1.1 in /usr/local/lib/python3.11/dist-packages (from anyio->httpx<1.0.0,>=0.23.0->agentql) (1.3.1)\n",
            "Requirement already satisfied: mdurl~=0.1 in /usr/local/lib/python3.11/dist-packages (from markdown-it-py>=2.2.0->rich>=10.11.0->typer<1,>=0->agentql) (0.1.2)\n",
            "Requirement already satisfied: playwright in /usr/local/lib/python3.11/dist-packages (1.51.0)\n",
            "Requirement already satisfied: pyee<13,>=12 in /usr/local/lib/python3.11/dist-packages (from playwright) (12.1.1)\n",
            "Requirement already satisfied: greenlet<4.0.0,>=3.1.1 in /usr/local/lib/python3.11/dist-packages (from playwright) (3.1.1)\n",
            "Requirement already satisfied: typing-extensions in /usr/local/lib/python3.11/dist-packages (from pyee<13,>=12->playwright) (4.13.0)\n",
            "Installing dependencies...\n",
            "Hit:1 http://archive.ubuntu.com/ubuntu jammy InRelease\n",
            "Hit:2 https://developer.download.nvidia.com/compute/cuda/repos/ubuntu2204/x86_64  InRelease\n",
            "Hit:3 https://cloud.r-project.org/bin/linux/ubuntu jammy-cran40/ InRelease\n",
            "Hit:4 http://archive.ubuntu.com/ubuntu jammy-updates InRelease\n",
            "Hit:5 http://archive.ubuntu.com/ubuntu jammy-backports InRelease\n",
            "Hit:6 http://security.ubuntu.com/ubuntu jammy-security InRelease\n",
            "Hit:7 https://r2u.stat.illinois.edu/ubuntu jammy InRelease\n",
            "Hit:8 https://ppa.launchpadcontent.net/deadsnakes/ppa/ubuntu jammy InRelease\n",
            "Hit:9 https://ppa.launchpadcontent.net/graphics-drivers/ppa/ubuntu jammy InRelease\n",
            "Hit:10 https://ppa.launchpadcontent.net/ubuntugis/ppa/ubuntu jammy InRelease\n",
            "Reading package lists... Done\n",
            "W: Skipping acquire of configured file 'main/source/Sources' as repository 'https://r2u.stat.illinois.edu/ubuntu jammy InRelease' does not seem to provide it (sources.list entry misspelt?)\n",
            "Reading package lists... Done\n",
            "Building dependency tree... Done\n",
            "Reading state information... Done\n",
            "fonts-freefont-ttf is already the newest version (20120503-10build1).\n",
            "fonts-liberation is already the newest version (1:1.07.4-11).\n",
            "libasound2 is already the newest version (1.2.6.1-1ubuntu1).\n",
            "libatk-bridge2.0-0 is already the newest version (2.38.0-3).\n",
            "libatk1.0-0 is already the newest version (2.36.0-3build1).\n",
            "libatspi2.0-0 is already the newest version (2.44.0-3).\n",
            "libcairo-gobject2 is already the newest version (1.16.0-5ubuntu2).\n",
            "libcairo2 is already the newest version (1.16.0-5ubuntu2).\n",
            "libdbus-glib-1-2 is already the newest version (0.112-2build1).\n",
            "libegl1 is already the newest version (1.4.0-1).\n",
            "libenchant-2-2 is already the newest version (2.3.2-1ubuntu2).\n",
            "libepoxy0 is already the newest version (1.5.10-1).\n",
            "libevdev2 is already the newest version (1.12.1+dfsg-1).\n",
            "libevent-2.1-7 is already the newest version (2.1.12-stable-1build3).\n",
            "libfontconfig1 is already the newest version (2.13.1-4.2ubuntu5).\n",
            "libgles2 is already the newest version (1.4.0-1).\n",
            "libglx0 is already the newest version (1.4.0-1).\n",
            "libgudev-1.0-0 is already the newest version (1:237-2build1).\n",
            "libhyphen0 is already the newest version (2.8.8-7build2).\n",
            "libicu70 is already the newest version (70.1-2).\n",
            "libjpeg-turbo8 is already the newest version (2.1.2-0ubuntu1).\n",
            "liblcms2-2 is already the newest version (2.12~rc1-2build2).\n",
            "libmanette-0.2-0 is already the newest version (0.2.6-3build1).\n",
            "libopengl0 is already the newest version (1.4.0-1).\n",
            "libopus0 is already the newest version (1.3.1-0.1build2).\n",
            "libpng16-16 is already the newest version (1.6.37-3build5).\n",
            "libproxy1v5 is already the newest version (0.4.17-2).\n",
            "libsecret-1-0 is already the newest version (0.20.5-2).\n",
            "libwoff1 is already the newest version (1.0.2-1build4).\n",
            "libxcb-shm0 is already the newest version (1.14-3ubuntu3).\n",
            "libxcb1 is already the newest version (1.14-3ubuntu3).\n",
            "libxcomposite1 is already the newest version (1:0.4.5-1build2).\n",
            "libxcursor1 is already the newest version (1:1.2.0-2build4).\n",
            "libxdamage1 is already the newest version (1:1.1.5-2build2).\n",
            "libxext6 is already the newest version (2:1.3.4-1build1).\n",
            "libxfixes3 is already the newest version (1:6.0.0-1).\n",
            "libxi6 is already the newest version (2:1.8-1build1).\n",
            "libxkbcommon0 is already the newest version (1.4.0-1).\n",
            "libxrandr2 is already the newest version (2:1.5.2-1build1).\n",
            "libxrender1 is already the newest version (1:0.9.10-1build4).\n",
            "libxtst6 is already the newest version (2:1.2.3-1build4).\n",
            "xfonts-scalable is already the newest version (1:1.0.3-1.2ubuntu1).\n",
            "fonts-ipafont-gothic is already the newest version (00303-21ubuntu1).\n",
            "fonts-tlwg-loma-otf is already the newest version (1:0.7.3-1).\n",
            "fonts-unifont is already the newest version (1:14.0.01-1).\n",
            "fonts-wqy-zenhei is already the newest version (0.9.45-8).\n",
            "libavif13 is already the newest version (0.9.3-3).\n",
            "libffi7 is already the newest version (3.3-5ubuntu1).\n",
            "libx264-163 is already the newest version (2:0.163.3060+git5db6aa6-2build1).\n",
            "xfonts-cyrillic is already the newest version (1:1.0.5).\n",
            "fonts-noto-color-emoji is already the newest version (2.047-0ubuntu0.22.04.1).\n",
            "gstreamer1.0-plugins-base is already the newest version (1.20.1-1ubuntu0.4).\n",
            "gstreamer1.0-plugins-good is already the newest version (1.20.3-0ubuntu1.3).\n",
            "libatomic1 is already the newest version (12.3.0-1ubuntu1~22.04).\n",
            "libcups2 is already the newest version (2.4.1op1-1ubuntu4.11).\n",
            "libdbus-1-3 is already the newest version (1.12.20-2ubuntu4.1).\n",
            "libdrm2 is already the newest version (2.4.113-2~ubuntu0.22.04.1).\n",
            "libfreetype6 is already the newest version (2.11.1+dfsg-1ubuntu0.3).\n",
            "libgbm1 is already the newest version (23.2.1-1ubuntu3.1~22.04.3).\n",
            "libgdk-pixbuf-2.0-0 is already the newest version (2.42.8+dfsg-1ubuntu0.3).\n",
            "libglib2.0-0 is already the newest version (2.72.4-0ubuntu2.4).\n",
            "libgstreamer-gl1.0-0 is already the newest version (1.20.1-1ubuntu0.4).\n",
            "libgstreamer-plugins-base1.0-0 is already the newest version (1.20.1-1ubuntu0.4).\n",
            "libgstreamer1.0-0 is already the newest version (1.20.3-0ubuntu1.1).\n",
            "libgtk-3-0 is already the newest version (3.24.33-1ubuntu2.2).\n",
            "libgtk-4-1 is already the newest version (4.6.9+ds-0ubuntu0.22.04.2).\n",
            "libharfbuzz-icu0 is already the newest version (2.7.4-1ubuntu3.2).\n",
            "libharfbuzz0b is already the newest version (2.7.4-1ubuntu3.2).\n",
            "libnotify4 is already the newest version (0.7.9-3ubuntu5.22.04.1).\n",
            "libnspr4 is already the newest version (2:4.35-0ubuntu0.22.04.1).\n",
            "libnss3 is already the newest version (2:3.98-0ubuntu0.22.04.2).\n",
            "libopenjp2-7 is already the newest version (2.4.0-6ubuntu0.3).\n",
            "libpango-1.0-0 is already the newest version (1.50.6+ds-2ubuntu1).\n",
            "libpangocairo-1.0-0 is already the newest version (1.50.6+ds-2ubuntu1).\n",
            "libwayland-client0 is already the newest version (1.20.0-1ubuntu0.1).\n",
            "libwayland-egl1 is already the newest version (1.20.0-1ubuntu0.1).\n",
            "libwayland-server0 is already the newest version (1.20.0-1ubuntu0.1).\n",
            "libwebpdemux2 is already the newest version (1.2.2-2ubuntu0.22.04.2).\n",
            "libx11-6 is already the newest version (2:1.7.5-1ubuntu0.3).\n",
            "libx11-xcb1 is already the newest version (2:1.7.5-1ubuntu0.3).\n",
            "libxml2 is already the newest version (2.9.13+dfsg-1ubuntu0.6).\n",
            "libxslt1.1 is already the newest version (1.1.34-4ubuntu0.22.04.3).\n",
            "ffmpeg is already the newest version (7:4.4.2-0ubuntu0.22.04.1).\n",
            "gstreamer1.0-libav is already the newest version (1.20.3-0ubuntu1).\n",
            "gstreamer1.0-plugins-bad is already the newest version (1.20.3-0ubuntu1.1).\n",
            "libsoup-3.0-0 is already the newest version (3.0.7-0ubuntu1).\n",
            "xvfb is already the newest version (2:21.1.4-2ubuntu1.7~22.04.14).\n",
            "0 upgraded, 0 newly installed, 0 to remove and 38 not upgraded.\n"
          ]
        }
      ]
    },
    {
      "cell_type": "markdown",
      "source": [
        "# Load Data"
      ],
      "metadata": {
        "id": "e2xFZ0MZYprX"
      }
    },
    {
      "cell_type": "code",
      "source": [
        "import pandas as pd\n",
        "import agentql\n",
        "from playwright.async_api import async_playwright\n",
        "import asyncio\n",
        "import json\n",
        "\n",
        "# Function to load the Excel file\n",
        "def load_companies_data(excel_file_path):\n",
        "    df = pd.read_excel(excel_file_path)\n",
        "    return df"
      ],
      "metadata": {
        "id": "0yjNwuh-YZDI"
      },
      "execution_count": 11,
      "outputs": []
    },
    {
      "cell_type": "markdown",
      "source": [
        "# Scrape News Room"
      ],
      "metadata": {
        "id": "1WIUo2UBYuHf"
      }
    },
    {
      "cell_type": "code",
      "source": [
        "# Function to scrape news articles for each company\n",
        "async def scrape_news_articles_for_company(company, url):\n",
        "    async with async_playwright() as playwright:\n",
        "        browser = await playwright.chromium.launch()\n",
        "        page = await agentql.wrap_async(await browser.new_page())\n",
        "\n",
        "        await page.goto(url)\n",
        "\n",
        "        SEARCH_QUERY = \"\"\"\n",
        "        {\n",
        "            news_articles\n",
        "        }\n",
        "        \"\"\"\n",
        "\n",
        "        NEWSROOM_OVERVIEW = \"\"\"\n",
        "        {\n",
        "            news_articles[] {\n",
        "                title\n",
        "                body\n",
        "                date\n",
        "                link\n",
        "            }\n",
        "        }\n",
        "        \"\"\"\n",
        "        # Get the response\n",
        "        response = await page.query_data(NEWSROOM_OVERVIEW)\n",
        "\n",
        "        # Print the response to inspect its structure\n",
        "        print(response)\n",
        "\n",
        "        # Access the articles from the response, if available\n",
        "        articles = response.get('news_articles', [])\n",
        "\n",
        "        await browser.close()\n",
        "\n",
        "        # Return the company's name and the extracted news articles\n",
        "        return {\n",
        "            \"company\": company,\n",
        "            \"news_articles\": articles\n",
        "        }"
      ],
      "metadata": {
        "id": "K7LrkcuhTbtB"
      },
      "execution_count": 12,
      "outputs": []
    },
    {
      "cell_type": "markdown",
      "source": [
        "# Process Companies Data"
      ],
      "metadata": {
        "id": "O8YvhKJrY0Lo"
      }
    },
    {
      "cell_type": "code",
      "source": [
        "# Main function to process the Excel and scrape data\n",
        "async def process_companies_data(excel_file_path):\n",
        "    companies_data = load_companies_data(excel_file_path)\n",
        "\n",
        "    # List to hold the results for all companies\n",
        "    all_companies_news = []\n",
        "\n",
        "    # Scrape news articles for each company\n",
        "    for _, row in companies_data.iterrows():\n",
        "        company_name = row['company']\n",
        "        company_url = row['link']\n",
        "        print(f\"Scraping news articles for: {company_name} ({company_url})\")\n",
        "\n",
        "        company_news = await scrape_news_articles_for_company(company_name, company_url)\n",
        "        all_companies_news.append(company_news)\n",
        "\n",
        "    # Convert the data to a DataFrame\n",
        "    df = pd.json_normalize(all_companies_news, \"news_articles\", [\"company\"])\n",
        "\n",
        "    # Convert the DataFrame to JSON for structured output\n",
        "    structured_json = df.to_json(orient=\"records\", lines=True)\n",
        "\n",
        "    return df, structured_json"
      ],
      "metadata": {
        "id": "BU1MVMQoYTRa"
      },
      "execution_count": 13,
      "outputs": []
    },
    {
      "cell_type": "markdown",
      "source": [
        "# Execute Code"
      ],
      "metadata": {
        "id": "tPJj4QE8ZFGF"
      }
    },
    {
      "cell_type": "code",
      "source": [
        "import asyncio\n",
        "\n",
        "loop = asyncio.get_running_loop()\n",
        "\n",
        "excel_file_path = \"/content/competitor_newsroom.xlsx\"\n",
        "task = loop.create_task(process_companies_data(excel_file_path))\n",
        "df, structured_json = await task\n",
        "# Display DataFrame and JSON result\n",
        "print(df.head())\n",
        "print(structured_json)"
      ],
      "metadata": {
        "colab": {
          "base_uri": "https://localhost:8080/"
        },
        "id": "JrVY0l1NZGPA",
        "outputId": "997ec335-f380-4582-f244-1f07b4f66534"
      },
      "execution_count": 14,
      "outputs": [
        {
          "output_type": "stream",
          "name": "stdout",
          "text": [
            "Scraping news articles for: Accenture (https://newsroom.accenture.com/)\n",
            "{'news_articles': [{'title': 'Accenture and Schaeffler Pave the Way for Industrial Humanoid Robots with NVIDIA and Microsoft Technologies', 'body': 'HANOVER; Germany; April 1, 2025 – Accenture (NYSE: ACN) is working with Schaeffler AG to reinvent industrial automation with physical AI and robotics.', 'date': 'April 01, 2025', 'link': 'https://newsroom.accenture.com/news/2025/accenture-and-schaeffler-pave-the-way-for-industrial-humanoid-robots-with-nvidia-and-microsoft-technologies'}, {'title': 'Malabar Gold & Diamonds Collaborates with Accenture to Accelerate AI-Driven Business Reinvention', 'body': 'NEW DELHI; April 1, 2025 – Malabar Gold & Diamonds, the sixth largest jewelry retailer globally with over 380 showrooms across 13 countries, is collaborating with Accenture (NYSE: ACN) to accelerate its technology reinvention through an AI-powered, cloud enabled digital core. This initiative aims to elevate the customer and employee experience, enhance business agility and create new value and growth for the jewelry retailer’s global operations.', 'date': 'April 01, 2025', 'link': 'https://newsroom.accenture.com/news/2025/malabar-gold-diamonds-collaborates-with-accenture-to-accelerate-ai-driven-business-reinvention'}, {'title': 'New Accenture Siemens Business Group to Reinvent Engineering and Manufacturing for Clients', 'body': 'HANOVER, Germany, Mar. 31, 2025 – Siemens and Accenture (NYSE: ACN) are significantly advancing their long-standing alliance partnership to help clients reinvent and transform engineering and manufacturing.', 'date': 'March 31, 2025', 'link': 'https://newsroom.accenture.com/news/2025/new-accenture-siemens-business-group-to-reinvent-engineering-and-manufacturing-for-clients'}, {'title': 'Accenture Reports Second-Quarter Fiscal 2025 Results', 'body': 'NEW YORK; March 20, 2025 — Accenture (NYSE: ACN) reported financial results for the second quarter of fiscal 2025 ended February 28, 2025.', 'date': 'March 20, 2025', 'link': 'https://newsroom.accenture.com/news/2025/accenture-reports-second-quarter-fiscal-2025-results'}, {'title': 'Accenture and Commercial Bank of Dubai Launch Data and AI Training Programme to Elevate Employee Skills and Customer Experience', 'body': 'DUBAI, United Arab Emirates; March 19, 2025 – Accenture (NYSE: ACN) has joined forces with the Commercial Bank of Dubai (CBD) to train the bank’s employees in the fields of data and AI. As the first bank in the UAE to launch an enterprise-wide data literacy programmme, CBD is setting a new standard by enabling its employees to achieve certifications in both Data and AI.', 'date': 'March 19, 2025', 'link': 'https://newsroom.accenture.com/news/2025/accenture-and-commercial-bank-of-dubai-launch-data-and-ai-training-programme-to-elevate-employee-skills-and-customer-experience'}, {'title': 'Accenture Expands AI Refinery and Launches New Industry Agent Solutions to Accelerate Agentic AI Adoption', 'body': 'NEW YORK and SAN JOSE: GTC 2025; March 18, 2025 – To help organizations accelerate the adoption of agentic functionality and reimagine functions and industry processes, Accenture (NYSE: ACN) has expanded its AI Refinery™ platform with the launch of an AI agent builder that allows business users to quickly build and customize agents, enabling unprecedented agility. Accenture is also growing its collection of pre-configured industry agent solutions to help clients quickly scale networks of AI agents across the enterprise.', 'date': 'March 18, 2025', 'link': 'https://newsroom.accenture.com/news/2025/accenture-expands-ai-refinery-and-launches-new-industry-agent-solutions-to-accelerate-agentic-ai-adoption'}, {'title': 'Accenture Invests in OPAQUE to Advance Confidential AI and Data Solutions', 'body': 'NEW YORK and SAN FRANCISCO; March 13, 2025 – Accenture (NYSE: ACN) has made a strategic investment in OPAQUE, a provider of a confidential AI platform that empowers organizations to run cloud-scale, general purpose AI workloads using encrypted data and governed data sharing, with a focus on privacy, sovereignty and compliance. This investment, made through Accenture Ventures, underscores Accenture’s commitment to accelerating AI adoption by helping enterprises securely unlock the full value of sensitive data.', 'date': 'March 13, 2025', 'link': 'https://newsroom.accenture.com/news/2025/accenture-invests-in-opaque-to-advance-confidential-ai-and-data-solutions'}, {'title': 'Accenture and CrowdStrike Team to Transform Security Operations, Mitigating Cyber Threats and Reducing Costs with AI-native Solutions', 'body': 'NEW YORK; March 12, 2025 – Accenture (NYSE: ACN) and CrowdStrike (NASDAQ: CRWD) are collaborating to drive cybersecurity transformation, helping clients confidently navigate the next wave of innovation and growth.', 'date': 'March 12, 2025', 'link': 'https://newsroom.accenture.com/news/2025/accenture-and-crowdstrike-team-to-transform-security-operations-mitigating-cyber-threats-and-reducing-costs-with-ai-native-solutions'}, {'title': 'Accenture Teams Up with Air France-KLM to Support the Group’s Transition to the Cloud', 'body': 'PARIS; March 12, 2025 – Accenture (NYSE: ACN) is collaborating with Air France-KLM to transform and migrate the airline group’s existing digital applications to the cloud, moving away from its three proprietary data centers. The transition will enhance all operational functions across the organization, including passenger transport, cargo services and aircraft maintenance. This multi-year initiative aims to provide the airline group with increased agility, adapting the availability of resources in real time to ensure greater business resilience through cloud, data and AI, including generative AI (gen AI).', 'date': 'March 12, 2025', 'link': 'https://newsroom.accenture.com/news/2025/accenture-teams-up-with-air-france-klm-to-support-the-group-s-transition-to-the-cloud'}, {'title': 'Accenture to Acquire Soben, Boosting Capital Projects Capabilities in Data Center Development and Other Sectors', 'body': \"GLASGOW, UK, Mar. 11, 2025 – Accenture (NYSE: ACN) has agreed to acquire Soben, a global provider of construction consultancy services, headquartered in Glasgow, Scotland. Soben's expertise in data center development and the pharmaceutical and energy industries will boost Accenture’s capital projects capabilities in advisory as well as project, cost and commercial management for clients.\", 'date': 'March 11, 2025', 'link': 'https://newsroom.accenture.com/news/2025/accenture-to-acquire-soben-boosting-capital-projects-capabilities-in-data-center-development-and-other-sectors'}]}\n",
            "Scraping news articles for: Capgemini (https://www.capgemini.com/news/press-releases/)\n",
            "{'news_articles': [{'title': 'Large European and US organizations are prioritizing reindustrialization investments over short-term profitability', 'body': None, 'date': 'Mar 31, 2025', 'link': 'https://www.capgemini.com/news/press-releases/large-european-and-us-organizations-are-prioritizing-reindustrialization-investments-over-short-term-profitability/'}, {'title': 'Capgemini accelerates enterprise adoption of agentic AI for industries with NVIDIA', 'body': None, 'date': 'Mar 19, 2025', 'link': 'https://www.capgemini.com/news/press-releases/capgemini-accelerates-enterprise-adoption-of-agentic-ai-for-industries-with-nvidia/'}, {'title': 'Generative and agentic AI set to transform customer service into a strategic value driver for businesses', 'body': None, 'date': 'Mar 13, 2025', 'link': 'https://www.capgemini.com/news/press-releases/generative-and-agentic-ai-set-to-transform-customer-service-into-a-strategic-value-driver-for-businesses/'}, {'title': 'Retail banks face a loyalty crunch as card experience leaves customers underwhelmed', 'body': None, 'date': 'Mar 11, 2025', 'link': 'https://www.capgemini.com/news/press-releases/retail-banks-face-a-loyalty-crunch-as-card-experience-leaves-customers-underwhelmed/'}, {'title': 'Capgemini recognized as a ‘Leader’ in SAP services by independent research firm', 'body': None, 'date': 'Mar 4, 2025', 'link': 'https://www.capgemini.com/news/press-releases/capgemini-today-announced-that-it-has-been-named-a-leader-in-the-forrester-wave-sap-services-q1-2025/'}, {'title': 'Seven in ten businesses want simplified customer experience from telecom providers', 'body': None, 'date': 'Mar 3, 2025', 'link': 'https://www.capgemini.com/news/press-releases/seven-in-ten-businesses-want-simplified-customer-experience-from-telecom-providers/'}, {'title': 'A dual challenge for the battery industry: ramping up production while innovating game-changing chemistries for the future', 'body': None, 'date': 'Feb 27, 2025', 'link': 'https://www.capgemini.com/news/press-releases/a-dual-challenge-for-the-battery-industry-ramping-up-production-while-innovating-game-changing-chemistries-for-the-future/'}, {'title': 'Capgemini recognized as a ‘Leader’ in Customer Experience Strategy Consulting Services by independent research firm', 'body': None, 'date': 'Feb 26, 2025', 'link': 'https://www.capgemini.com/news/press-releases/capgemini-recognized-as-a-leader-in-customer-experience-strategy-consulting-services-by-independent-research-firm/'}, {'title': 'Full-year 2024 results', 'body': None, 'date': 'Feb 18, 2025', 'link': 'https://www.capgemini.com/news/press-releases/full-year-2024-results/'}, {'title': 'Change in the composition of Capgemini’s Board of Directors proposed to the 2025 Shareholders’ Meeting', 'body': None, 'date': 'Feb 17, 2025', 'link': 'https://www.capgemini.com/news/press-releases/change-in-the-composition-of-capgeminis-board-of-directors-proposed-to-the-2025-shareholders-meeting/'}]}\n",
            "Scraping news articles for: Deloitte (https://www.deloitte.com/global/en/about/press-room.html)\n",
            "{'news_articles': [{'title': 'Deloitte drives impact and scale in new Global AI Simulation Center of Excellence to create real-time, seamless business insights and innovation', 'body': 'Deloitte today announced the significant scaling of its Global Artificial Intelligence (AI) Simulation Center of Excellence (CoE), building on its global investment of US$3 billion in Generative AI (GenAI) through fiscal year 2030. Launched first in Bengaluru, India to serve Deloitte’s global network, the Simulation CoE aims to help accelerate clients’ decision-making processes, mitigate potential risks, and maximize their return on investment (ROI) deployed.', 'date': '25 Mar. 2025', 'link': 'https://www.deloitte.com/global/en/about/press-room/global-gen-ai-simulation-center-of-excellence.html'}, {'title': \"Women's elite sports exceed expectations as revenues projected to surpass US$2.3 billion in 2025\", 'body': 'Global revenues in women’s elite sports are expected to surpass US$2.3 billion in 2025, according to the Deloitte report Beyond the billion-dollar barrier.', 'date': '19 Mar. 2025', 'link': 'https://www.deloitte.com/global/en/about/press-room/womens-elite-sports-exceed-expectations-as-revenues-projected-to-surpass-in-2025.html'}, {'title': 'Worldwide Adobe Experience Cloud Professional Services', 'body': 'Deloitte has been positioned as a Leader in the 2024-2025 IDC MarketScape Vendor Assessment for Worldwide Adobe Experience Cloud Professional Services. Deloitte is recognized as a “worldwide services provider that combines a strong heritage in business consulting with broad and deep IT services capabilities” delivering Adobe-focused professional services through Deloitte Digital, its sub-brand. “IDC estimates that Deloitte Digital dedicates more than 2,000 FTEs to Adobe Experience Cloud and has approximately 10,000 Adobe-related practitioners globally.', 'date': '04 Feb. 2025', 'link': 'https://www.deloitte.com/global/en/about/press-room/worldwide-adobe-experience-cloud-professional-services.html'}, {'title': 'Deloitte’s Tracking the trends 2025 report explores how new leadership approaches may be required to cultivate resilience in the mining and metals industry', 'body': 'The 17th annual edition of Deloitte’s Tracking the trends 2025 report, explores key trends facing mining and metals companies and how new leadership approaches may be needed to capitalize on emerging opportunities and cultivate resilience.', 'date': '29 Jan. 2025', 'link': 'https://www.deloitte.com/global/en/about/press-room/tracking-the-trends-report-2025.html'}, {'title': 'Industry Cloud Professional Services by IDC MarketScape', 'body': 'Deloitte was recently positioned in the Leaders category of the IDC MarketScape: Industry Cloud Professional Services 2024 Vendor Assessment. This report evaluates vendors in the industry cloud professional services market, and it is the second time in which Deloitte has been named a Leader in the report for this market.', 'date': '21 Jan. 2025', 'link': 'https://www.deloitte.com/global/en/about/press-room/industry-cloud-professional-services-by-idc-marketscape.html'}, {'title': 'Deloitte recognized as a Leader in the inaugural 2024 Gartner® Magic Quadrant™ and scores highest in 3 Use Cases in the Critical Capabilities Report for Digital Experience Services', 'body': 'Gartner®, a company that delivers actionable, objective insights to executives and their teams, has recognized Deloitte as a Leader in the inaugural 2024 Gartner Magic Quadrant™ for Digital Experience Services.', 'date': '17 Dec. 2024', 'link': 'https://www.deloitte.com/global/en/about/press-room/gartner-magic-quadrant-highest-critical-capabilities-report-digital-experience-services.html'}, {'title': 'Deloitte recognized by Gartner® Magic Quadrant™ and Critical Capabilities for Cloud ERP Services for a second consecutive year', 'body': 'Gartner®, which produces actionable, objective insights for executives and their teams, has recognized Deloitte as a Leader in its 2024 Gartner Magic Quadrant™ for Cloud Enterprise Resource Planning (ERP) Services for a second year', 'date': '09 Dec. 2024', 'link': 'https://www.deloitte.com/global/en/about/press-room/cloud-erp-services-for-a-second-consecutive-year.html'}, {'title': 'Deloitte’s first Disability Inclusion @ Work 2024 survey reveals that workplace accessibility is a significant challenge for many', 'body': 'One-quarter of respondents who have disclosed their disability, neurodivergence or health condition at work have requested accommodations. Of those, 74% have had at least one request rejected; almost two in 10 have had all their requests rejected.', 'date': '03 Dec. 2024', 'link': 'https://www.deloitte.com/global/en/about/press-room/deloittes-first-disability-inclusion-work-2024.html'}, {'title': 'Deloitte Global’s 2025 Predictions Report: Generative AI: Paving the Way for a transformative future in Technology, Media, and Telecommunications', 'body': '', 'date': '19 Nov. 2024', 'link': 'https://www.deloitte.com/global/en/about/press-room/deloitte-globals-2025-predictions-report.html'}, {'title': 'Global sustainable food system', 'body': 'climate change, sustainably transforming global food production', 'date': '18 Nov. 2024', 'link': 'https://www.deloitte.com/global/en/about/press-room/global-sustainable-food-system.html'}, {'title': '2025 ITR World Tax Leaders Rankings: Celebrating the recognition of 662 Deloitte practitioners', 'body': 'NEW YORK, NY, USA, 15 November 2024 – Deloitte celebrates the recognition from International Tax Review (ITR) of 662 Deloitte professionals for their leadership in Tax and Transfer Pricing, as featured in the latest 2025 ITR World Tax guide.', 'date': '15 Nov. 2024', 'link': 'https://www.deloitte.com/global/en/about/press-room/celebrating-the-recognition-of-662-deloitte-practitioners.html'}, {'title': 'Deloitte Global’s Future of Cyber survey', 'body': 'Deloitte Global released the fourth edition of the Global Future of Cyber survey, which found that cybersecurity is increasingly becoming a cornerstone of many organizations’ growth strategies and business plans amidst today’s advanced and complex threat landscape.', 'date': '21 Oct. 2024', 'link': 'https://www.deloitte.com/global/en/about/press-room/deloitte-global-future-cyber-survey.html'}]}\n",
            "Scraping news articles for: Roland Berger (https://www.rolandberger.com/de/Media/Newsroom.html#/)\n",
            "{'news_articles': [{'title': 'Microsoft Intelligent Manufacturing Award 2025: Beste Lösungen für Operations zusammen mit Roland Berger ausgezeichnet', 'body': 'Es ist wieder so weit: Die Gewinner des Microsoft Intelligent Manufacturing Award (MIMA) für 2025 stehen fest und präsentieren sich auf der Website www.MIMAwinners2025.com. Der begehrte Preis, den Microsoft Deutschland zusammen mit der Strategieberatung Roland Berger verleiht, zeichnet innovative Manufacturing-Unternehmen aus. In diesem Jahr prämiert der MIMA bereits zum sechsten Mal wegweisende L', 'date': '11. März 2025 10:00', 'link': 'https://rolandberger.mynewsdesk.com/pressreleases/microsoft-intelligent-manufacturing-award-2025-beste-loesungen-fuer-operations-zusammen-mit-roland-berger-ausgezeichnet-3375300'}, {'title': 'Personalie: Dr. Julia Sosnizka wird Global Head of Marketing & Communications bei Roland Berger', 'body': 'Roland Berger stärkt seine globale Marketing- und Kommunikationsstrategie: Dr. Julia Sosnizka übernimmt ab sofort als Global Head of Marketing & Communications die weltweite Positionierung der Unternehmensberatung. Sie wechselt von der Boston Consulting Group (BCG) und bringt umfassende Erfahrung in strategischer Kommunikation, Markenführung und digitaler Transformation mit.', 'date': '4. März 2025 11:16', 'link': 'https://rolandberger.mynewsdesk.com/pressreleases/personalie-dr-julia-sosnizka-wird-global-head-of-marketing-und-communications-bei-roland-berger-3372557'}, {'title': 'Studie: Unternehmen in Deutschland investieren weiter in ihre Belegschaft und erhöhen auch 2025 signifikant ihre Mitarbeiter-Benefits', 'body': 'Study DownloadRoland Berger führt mit über 1.700 Befragten, die bislang größte Marktanalyse zu Employee Benefits mit Fokus auf Personalverantwortliche in Deutschland durch\\nÜber 80 Prozent empfinden den Markt für Mitarbeiterzusatzleistungen als intransparent; viele kennen die steuerlichen Regularien nur unzureichend\\nIm Durchschnitt bieten Unternehmen ihren Mitarbeitern 6,6 Benefits an; 2025 p', 'date': '25. Februar 2025 09:00', 'link': 'https://rolandberger.mynewsdesk.com/pressreleases/studie-unternehmen-in-deutschland-investieren-weiter-in-ihre-belegschaft-und-erhoehen-auch-2025-signifikant-ihre-mitarbeiter-benefits-3371649'}, {'title': 'Globaler Batteriemarkt wächst trotz Unsicherheiten weiter stark und bietet Chancen für europäische Hersteller', 'body': 'Study DownloadBattery Monitor 2024/2025 von Roland Berger und RWTH Aachen: Bedarf verdreifacht sich bis 2030 auf bis zu 4,6 Terawattstunden; weitere Verdoppelung bis 2040\\nEuropas Markt ist geprägt vom Preiskampf asiatischer Hersteller; zudem lokale Überkapazitäten durch zu optimistische Bedarfsannahmen\\nNeue europäische Akteure müssen zeigen, dass sie hochwertige Batteriezellen zu niedrigen K', 'date': '7. Februar 2025 08:59', 'link': 'https://rolandberger.mynewsdesk.com/pressreleases/globaler-batteriemarkt-waechst-trotz-unsicherheiten-weiter-stark-und-bietet-chancen-fuer-europaeische-hersteller-3368519'}, {'title': 'Roland Berger Stiftung für europäische Unternehmensführung honoriert Bachelorarbeit zur Nutzung von Elektroautos als Stromspeicher', 'body': 'München, Januar 2025: Zum neunten Mal hat die Roland Berger Stiftung für europäische Unternehmensführung den Preis für die beste Bachelorarbeit vergeben. In diesem Jahr wurde Kevin Krasnikov für seine Arbeit mit dem Titel „Analyse der Wirtschaftlichkeitspotenziale der Vehicle-to-Grid-Technologie auf Strommärkten“ ausgezeichnet, die er am Karlsruhe Institute of Technology (KIT) verfasst hat. Die Au', 'date': '20. Januar 2025 16:00', 'link': 'https://rolandberger.mynewsdesk.com/pressreleases/roland-berger-stiftung-fuer-europaeische-unternehmensfuehrung-honoriert-bachelorarbeit-zur-nutzung-von-elektroautos-als-stromspeicher-3364886'}, {'title': 'Offshore-Windbranche: Standards für Turbinen unverzichtbar, um Kosten zu senken und Ausbautempo zu steigern', 'body': 'Analyse von Roland Berger: Kostenvorteil größerer Turbinen schwindet, Nachteile für Lieferketten und Effizienz nehmen zu\\nUm Ausbauziel von 120 Gigawatt bis 2030 zu erreichen, muss die Industrie ihre Kapazitäten auf 20 Gigawatt pro Jahr verdreifachen und über 5.000 zusätzliche Windkraftanlagen installieren\\nStandards für Turbinengröße und definierte Steigerungsschritte verlängern', 'date': '2. Dezember 2024 08:42', 'link': 'https://rolandberger.mynewsdesk.com/pressreleases/offshore-windbranche-standards-fuer-turbinen-unverzichtbar-um-kosten-zu-senken-und-ausbautempo-zu-steigern-3357599'}, {'title': 'Künstliche Intelligenz verändert die Gesundheitsbranche massiv – Unternehmen fühlen sich nicht gut vorbereitet', 'body': 'Umfrage von Roland Berger unter Managern der Gesundheitsbranche: Fast alle (94%) erwartenstarke oder sehr starke Auswirkungen von KI\\nDreiviertel nutzen KI regelmäßig, aber nur 15 Prozent haben die Technologie in Standardprozesse integriert\\nUnternehmen engagieren sich und investieren, doch nur 29 Prozent fühlen sich gut vorbereitet, um KI für Wettbewerbsvorteile zu nutzen', 'date': '20. November 2024 09:21', 'link': 'https://rolandberger.mynewsdesk.com/pressreleases/kuenstliche-intelligenz-veraendert-die-gesundheitsbranche-massiv-unternehmen-fuehlen-sich-nicht-gut-vorbereitet-3355483'}]}\n",
            "Scraping news articles for: PwC (https://www.pwc.com/gx/en/news-room/press-releases.html)\n",
            "{'news_articles': [{'title': 'PwC Network statement on SSFA firms exit', 'body': 'Following a strategic review, the PwC firms in Côte d’Ivoire, Gabon, Cameroon, the Democratic Republic of Congo (DRC), Republic of Congo (Congo), Madagascar, Republic of Guinea, Senegal and Equatorial Guinea (the PwC Sub-Saharan Francophone Africa firms) have separated and will no longer be part of the PwC network.', 'date': '31 Mar 2025', 'link': 'https://www.pwc.com/gx/en/news-room/press-releases/2025/pwc-network-statement-on-ssfa-firms-exit.html'}, {'title': 'C3 AI and PwC Announce Strategic Alliance to Drive Business Transformation Across Critical Industries', 'body': 'C3 AI, the leading Enterprise AI application software company, today announced a strategic alliance with PwC, a global leader in professional services, to deploy AI-powered business transformation at enterprise-scale across critical industries.', 'date': '18 Mar 2025', 'link': 'https://www.pwc.com/gx/en/news-room/press-releases/2025/drive-business-transformation-across-industries.html'}, {'title': 'Global telecoms industry revenue rose 4.3% in 2023 to hit US$1.1 trillion, but faces continuing headwinds – even as 5G subscriptions are projected to quadruple by 2028', 'body': 'Global telecoms revenue is projected to rise at a CAGR of 2.9% through to 2028, below inflation, even as the sectors total revenue across fixed and mobile verticals rose 4.3% in 2023 to hit US$1.1 trillion, according to PwC’s Global Telecoms Outlook, published today at Mobile World Congress in Barcelona, Spain (3-6...', 'date': '28 Feb 2025', 'link': 'https://www.pwc.com/gx/en/news-room/press-releases/2025/pwc-global-telecoms-outlook.html'}, {'title': 'PwC and Microsoft announce strategic collaboration to transform industries with AI agents', 'body': 'PwC and Microsoft announced a strategic collaboration aimed at transforming industries with the power of AI agents.', 'date': '30 Jan 2025', 'link': 'https://www.pwc.com/gx/en/news-room/press-releases/2025/pwc-and-microsoft-strategic-collaboration.html'}, {'title': 'Nearly three-in-five CEOs optimistic about global economic outlook as they plan headcount increases and continued AI rollout: PwC 2025 Global CEO Survey', 'body': 'Almost 60% of CEOs around the world expect global economic growth to increase over the next 12 months, according to PwC’s 28th Annual Global CEO Survey, launched today during the World Economic Forum Annual Meeting.', 'date': '20 Jan 2025', 'link': 'https://www.pwc.com/gx/en/news-room/press-releases/2025/pwc-2025-global-ceo-survey.html'}, {'title': 'PwC wins Product and Service & Solution awards at International Innovation Awards 2024', 'body': 'PwC wins two awards at the 2024 International Innovation Awards for Predictive Analytics and data solutions, enhancing audit quality and efficiency.', 'date': '19 Dec 2024', 'link': 'https://www.pwc.com/gx/en/news-room/press-releases/2024/international-innovation-awards-2024.html'}, {'title': 'PwC collaborates with Oracle to help organisations address Pillar Two, CSRD and CBAM reporting requirements', 'body': 'PwC is leveraging the Oracle Fusion Cloud Applications Suite to unveil new implementation and consulting services to help global businesses simplify and automate the data consolidation and reporting processes to address new reporting standards.', 'date': '18 Dec 2024', 'link': 'https://www.pwc.com/gx/en/news-room/press-releases/2024/pwc-collaborates-with-oracle.html'}, {'title': 'Investors reject trade-off between workers and AI, as over 70% urge companies to invest in both', 'body': 'The pressure is on for companies to turn AI investment into impact, according to PwC’s 2024 Global Investor Survey, released today. 73% of investors say companies should deploy AI solutions at scale, as overwhelmingly 66% expect the companies they invest in to deliver productivity increases from AI over the next 12...', 'date': '04 Dec 2024', 'link': 'https://www.pwc.com/gx/en/news-room/press-releases/2024/pwc-2024-global-investor-survey.html'}, {'title': 'PwC, AWS Expand Strategic Alliance to Catalyze Generative-AI powered Transformation for Industry Customers', 'body': 'As part of its presence at re:Invent, PwC today announced a strategic collaboration agreement with Amazon Web Services (AWS) to help drive industry innovation using the latest advancements in cloud and generative AI (GenAI) services.', 'date': '03 Dec 2024', 'link': 'https://www.pwc.com/gx/en/news-room/press-releases/2024/pwc-aws-expand-strategic-alliance.html'}, {'title': '80% of asset and wealth managers say AI will fuel revenue growth while ‘tech-as-a-service’ could see 12% boost to revenues by 2028', 'body': \"Four-fifths (80%) of asset and wealth management (AWM) organisations say disruptive technologies such as AI will fuel revenue growth, with those moving quickly to adopt ‘tech-as-a-service' potentially seeing a 12% boost to revenues by 2028, according to PwC analysis.\", 'date': '19 Nov 2024', 'link': 'https://www.pwc.com/gx/en/news-room/press-releases/2024/pwc-2024-asset-and-wealth-management-report.html'}, {'title': 'PwC Appoints Matt Wood as Global Commercial Technology & Innovation Officer', 'body': 'PwC has made a significant global leadership appointment that will strengthen its ability to deliver end-to-end capabilities and client-centric solutions. Matt Wood has joined PwC as US and Global Commercial Technology & Innovation Officer and will join the Global Leadership Team.', 'date': '29 Oct 2024', 'link': 'https://www.pwc.com/gx/en/news-room/press-releases/2024/pwc-appoints-matt-wood-global-commercial-technology-innovation-officer.html'}, {'title': 'PwC global revenues rise to US$55.4 billion', 'body': 'For the 12 months ending 30 June 2024, PwC firms around the world reported record gross revenues of US$55.4 billion, growing by 3.7% in local currency and 4.3% in US dollars over the FY23 gross revenues of US$53.1 billion.', 'date': '29 Oct 2024', 'link': 'https://www.pwc.com/gx/en/news-room/press-releases/2024/pwc-global-revenues-rise-to-us-55-4-billion.html'}]}\n",
            "                                               title  \\\n",
            "0  Accenture and Schaeffler Pave the Way for Indu...   \n",
            "1  Malabar Gold & Diamonds Collaborates with Acce...   \n",
            "2  New Accenture Siemens Business Group to Reinve...   \n",
            "3  Accenture Reports Second-Quarter Fiscal 2025 R...   \n",
            "4  Accenture and Commercial Bank of Dubai Launch ...   \n",
            "\n",
            "                                                body            date  \\\n",
            "0  HANOVER; Germany; April 1, 2025 – Accenture (N...  April 01, 2025   \n",
            "1  NEW DELHI; April 1, 2025 – Malabar Gold & Diam...  April 01, 2025   \n",
            "2  HANOVER, Germany, Mar. 31, 2025 – Siemens and ...  March 31, 2025   \n",
            "3  NEW YORK; March 20, 2025 — Accenture (NYSE: AC...  March 20, 2025   \n",
            "4  DUBAI, United Arab Emirates; March 19, 2025 – ...  March 19, 2025   \n",
            "\n",
            "                                                link    company  \n",
            "0  https://newsroom.accenture.com/news/2025/accen...  Accenture  \n",
            "1  https://newsroom.accenture.com/news/2025/malab...  Accenture  \n",
            "2  https://newsroom.accenture.com/news/2025/new-a...  Accenture  \n",
            "3  https://newsroom.accenture.com/news/2025/accen...  Accenture  \n",
            "4  https://newsroom.accenture.com/news/2025/accen...  Accenture  \n",
            "{\"title\":\"Accenture and Schaeffler Pave the Way for Industrial Humanoid Robots with NVIDIA and Microsoft Technologies\",\"body\":\"HANOVER; Germany; April 1, 2025 \\u2013 Accenture (NYSE: ACN) is working with Schaeffler AG to reinvent industrial automation with physical AI and robotics.\",\"date\":\"April 01, 2025\",\"link\":\"https:\\/\\/newsroom.accenture.com\\/news\\/2025\\/accenture-and-schaeffler-pave-the-way-for-industrial-humanoid-robots-with-nvidia-and-microsoft-technologies\",\"company\":\"Accenture\"}\n",
            "{\"title\":\"Malabar Gold & Diamonds Collaborates with Accenture to Accelerate AI-Driven Business Reinvention\",\"body\":\"NEW DELHI; April 1, 2025 \\u2013 Malabar Gold & Diamonds, the sixth largest jewelry retailer globally with over 380 showrooms across 13 countries, is collaborating with Accenture (NYSE: ACN) to accelerate its technology reinvention through an AI-powered, cloud enabled digital core. This initiative aims to elevate the customer and employee experience, enhance business agility and create new value and growth for the jewelry retailer\\u2019s global operations.\",\"date\":\"April 01, 2025\",\"link\":\"https:\\/\\/newsroom.accenture.com\\/news\\/2025\\/malabar-gold-diamonds-collaborates-with-accenture-to-accelerate-ai-driven-business-reinvention\",\"company\":\"Accenture\"}\n",
            "{\"title\":\"New Accenture Siemens Business Group to Reinvent Engineering and Manufacturing for Clients\",\"body\":\"HANOVER, Germany, Mar. 31, 2025 \\u2013 Siemens and Accenture (NYSE: ACN) are significantly advancing their long-standing alliance partnership to help clients reinvent and transform engineering and manufacturing.\",\"date\":\"March 31, 2025\",\"link\":\"https:\\/\\/newsroom.accenture.com\\/news\\/2025\\/new-accenture-siemens-business-group-to-reinvent-engineering-and-manufacturing-for-clients\",\"company\":\"Accenture\"}\n",
            "{\"title\":\"Accenture Reports Second-Quarter Fiscal 2025 Results\",\"body\":\"NEW YORK; March 20, 2025 \\u2014 Accenture (NYSE: ACN) reported financial results for the second quarter of fiscal 2025 ended February 28, 2025.\",\"date\":\"March 20, 2025\",\"link\":\"https:\\/\\/newsroom.accenture.com\\/news\\/2025\\/accenture-reports-second-quarter-fiscal-2025-results\",\"company\":\"Accenture\"}\n",
            "{\"title\":\"Accenture and Commercial Bank of Dubai Launch Data and AI Training Programme to Elevate Employee Skills and Customer Experience\",\"body\":\"DUBAI, United Arab Emirates; March 19, 2025 \\u2013 Accenture (NYSE: ACN) has joined forces with the Commercial Bank of Dubai (CBD) to train the bank\\u2019s employees in the fields of data and AI. As the first bank in the UAE to launch an enterprise-wide data literacy programmme, CBD is setting a new standard by enabling its employees to achieve certifications in both Data and AI.\",\"date\":\"March 19, 2025\",\"link\":\"https:\\/\\/newsroom.accenture.com\\/news\\/2025\\/accenture-and-commercial-bank-of-dubai-launch-data-and-ai-training-programme-to-elevate-employee-skills-and-customer-experience\",\"company\":\"Accenture\"}\n",
            "{\"title\":\"Accenture Expands AI Refinery and Launches New Industry Agent Solutions to Accelerate Agentic AI Adoption\",\"body\":\"NEW YORK and SAN JOSE: GTC 2025; March 18, 2025 \\u2013 To help organizations accelerate the adoption of agentic functionality and reimagine functions and industry processes, Accenture (NYSE: ACN) has expanded its AI Refinery\\u2122 platform with the launch of an AI agent builder that allows business users to quickly build and customize agents, enabling unprecedented agility. Accenture is also growing its collection of pre-configured industry agent solutions to help clients quickly scale networks of AI agents across the enterprise.\",\"date\":\"March 18, 2025\",\"link\":\"https:\\/\\/newsroom.accenture.com\\/news\\/2025\\/accenture-expands-ai-refinery-and-launches-new-industry-agent-solutions-to-accelerate-agentic-ai-adoption\",\"company\":\"Accenture\"}\n",
            "{\"title\":\"Accenture Invests in OPAQUE to Advance Confidential AI and Data Solutions\",\"body\":\"NEW YORK and SAN FRANCISCO; March 13, 2025 \\u2013 Accenture (NYSE: ACN) has made a strategic investment in OPAQUE, a provider of a confidential AI platform that empowers organizations to run cloud-scale, general purpose AI workloads using encrypted data and governed data sharing, with a focus on privacy, sovereignty and compliance. This investment, made through Accenture Ventures, underscores Accenture\\u2019s commitment to accelerating AI adoption by helping enterprises securely unlock the full value of sensitive data.\",\"date\":\"March 13, 2025\",\"link\":\"https:\\/\\/newsroom.accenture.com\\/news\\/2025\\/accenture-invests-in-opaque-to-advance-confidential-ai-and-data-solutions\",\"company\":\"Accenture\"}\n",
            "{\"title\":\"Accenture and CrowdStrike Team to Transform Security Operations, Mitigating Cyber Threats and Reducing Costs with AI-native Solutions\",\"body\":\"NEW YORK; March 12, 2025 \\u2013 Accenture (NYSE: ACN) and CrowdStrike (NASDAQ: CRWD) are collaborating to drive cybersecurity transformation, helping clients confidently navigate the next wave of innovation and growth.\",\"date\":\"March 12, 2025\",\"link\":\"https:\\/\\/newsroom.accenture.com\\/news\\/2025\\/accenture-and-crowdstrike-team-to-transform-security-operations-mitigating-cyber-threats-and-reducing-costs-with-ai-native-solutions\",\"company\":\"Accenture\"}\n",
            "{\"title\":\"Accenture Teams Up with Air France-KLM to Support the Group\\u2019s Transition to the Cloud\",\"body\":\"PARIS; March 12, 2025 \\u2013 Accenture (NYSE: ACN) is collaborating with Air France-KLM to transform and migrate the airline group\\u2019s existing digital applications to the cloud, moving away from its three proprietary data centers. The transition will enhance all operational functions across the organization, including passenger transport, cargo services and aircraft maintenance. This multi-year initiative aims to provide the airline group with increased agility, adapting the availability of resources in real time to ensure greater business resilience through cloud, data and AI, including generative AI (gen AI).\",\"date\":\"March 12, 2025\",\"link\":\"https:\\/\\/newsroom.accenture.com\\/news\\/2025\\/accenture-teams-up-with-air-france-klm-to-support-the-group-s-transition-to-the-cloud\",\"company\":\"Accenture\"}\n",
            "{\"title\":\"Accenture to Acquire Soben, Boosting Capital Projects Capabilities in Data Center Development and Other Sectors\",\"body\":\"GLASGOW, UK, Mar. 11, 2025 \\u2013 Accenture (NYSE: ACN) has agreed to acquire Soben, a global provider of construction consultancy services, headquartered in Glasgow, Scotland. Soben's expertise in data center development and the pharmaceutical and energy industries will boost Accenture\\u2019s capital projects capabilities in advisory as well as project, cost and commercial management for clients.\",\"date\":\"March 11, 2025\",\"link\":\"https:\\/\\/newsroom.accenture.com\\/news\\/2025\\/accenture-to-acquire-soben-boosting-capital-projects-capabilities-in-data-center-development-and-other-sectors\",\"company\":\"Accenture\"}\n",
            "{\"title\":\"Large European and US organizations are prioritizing reindustrialization investments over short-term profitability\",\"body\":null,\"date\":\"Mar 31, 2025\",\"link\":\"https:\\/\\/www.capgemini.com\\/news\\/press-releases\\/large-european-and-us-organizations-are-prioritizing-reindustrialization-investments-over-short-term-profitability\\/\",\"company\":\"Capgemini\"}\n",
            "{\"title\":\"Capgemini accelerates enterprise adoption of agentic AI for industries with NVIDIA\",\"body\":null,\"date\":\"Mar 19, 2025\",\"link\":\"https:\\/\\/www.capgemini.com\\/news\\/press-releases\\/capgemini-accelerates-enterprise-adoption-of-agentic-ai-for-industries-with-nvidia\\/\",\"company\":\"Capgemini\"}\n",
            "{\"title\":\"Generative and agentic AI set to transform customer service into a strategic value driver for businesses\",\"body\":null,\"date\":\"Mar 13, 2025\",\"link\":\"https:\\/\\/www.capgemini.com\\/news\\/press-releases\\/generative-and-agentic-ai-set-to-transform-customer-service-into-a-strategic-value-driver-for-businesses\\/\",\"company\":\"Capgemini\"}\n",
            "{\"title\":\"Retail banks face a loyalty crunch as card experience leaves customers underwhelmed\",\"body\":null,\"date\":\"Mar 11, 2025\",\"link\":\"https:\\/\\/www.capgemini.com\\/news\\/press-releases\\/retail-banks-face-a-loyalty-crunch-as-card-experience-leaves-customers-underwhelmed\\/\",\"company\":\"Capgemini\"}\n",
            "{\"title\":\"Capgemini recognized as a \\u2018Leader\\u2019 in SAP services by independent research firm\",\"body\":null,\"date\":\"Mar 4, 2025\",\"link\":\"https:\\/\\/www.capgemini.com\\/news\\/press-releases\\/capgemini-today-announced-that-it-has-been-named-a-leader-in-the-forrester-wave-sap-services-q1-2025\\/\",\"company\":\"Capgemini\"}\n",
            "{\"title\":\"Seven in ten businesses want simplified customer experience from telecom providers\",\"body\":null,\"date\":\"Mar 3, 2025\",\"link\":\"https:\\/\\/www.capgemini.com\\/news\\/press-releases\\/seven-in-ten-businesses-want-simplified-customer-experience-from-telecom-providers\\/\",\"company\":\"Capgemini\"}\n",
            "{\"title\":\"A dual challenge for the battery industry: ramping up production while innovating game-changing chemistries for the future\",\"body\":null,\"date\":\"Feb 27, 2025\",\"link\":\"https:\\/\\/www.capgemini.com\\/news\\/press-releases\\/a-dual-challenge-for-the-battery-industry-ramping-up-production-while-innovating-game-changing-chemistries-for-the-future\\/\",\"company\":\"Capgemini\"}\n",
            "{\"title\":\"Capgemini recognized as a \\u2018Leader\\u2019 in Customer Experience Strategy Consulting Services by independent research firm\",\"body\":null,\"date\":\"Feb 26, 2025\",\"link\":\"https:\\/\\/www.capgemini.com\\/news\\/press-releases\\/capgemini-recognized-as-a-leader-in-customer-experience-strategy-consulting-services-by-independent-research-firm\\/\",\"company\":\"Capgemini\"}\n",
            "{\"title\":\"Full-year 2024 results\",\"body\":null,\"date\":\"Feb 18, 2025\",\"link\":\"https:\\/\\/www.capgemini.com\\/news\\/press-releases\\/full-year-2024-results\\/\",\"company\":\"Capgemini\"}\n",
            "{\"title\":\"Change in the composition of Capgemini\\u2019s Board of Directors proposed to the 2025 Shareholders\\u2019 Meeting\",\"body\":null,\"date\":\"Feb 17, 2025\",\"link\":\"https:\\/\\/www.capgemini.com\\/news\\/press-releases\\/change-in-the-composition-of-capgeminis-board-of-directors-proposed-to-the-2025-shareholders-meeting\\/\",\"company\":\"Capgemini\"}\n",
            "{\"title\":\"Deloitte drives impact and scale in new Global AI Simulation Center of Excellence to create real-time, seamless business insights and innovation\",\"body\":\"Deloitte today announced the significant scaling of its Global Artificial Intelligence (AI) Simulation Center of Excellence (CoE), building on its global investment of US$3 billion in Generative AI (GenAI) through fiscal year 2030. Launched first in Bengaluru, India to serve Deloitte\\u2019s global network, the Simulation CoE aims to help accelerate clients\\u2019 decision-making processes, mitigate potential risks, and maximize their return on investment (ROI) deployed.\",\"date\":\"25 Mar. 2025\",\"link\":\"https:\\/\\/www.deloitte.com\\/global\\/en\\/about\\/press-room\\/global-gen-ai-simulation-center-of-excellence.html\",\"company\":\"Deloitte\"}\n",
            "{\"title\":\"Women's elite sports exceed expectations as revenues projected to surpass US$2.3 billion in 2025\",\"body\":\"Global revenues in women\\u2019s elite sports are expected to surpass US$2.3 billion in 2025, according to the Deloitte report Beyond the billion-dollar barrier.\",\"date\":\"19 Mar. 2025\",\"link\":\"https:\\/\\/www.deloitte.com\\/global\\/en\\/about\\/press-room\\/womens-elite-sports-exceed-expectations-as-revenues-projected-to-surpass-in-2025.html\",\"company\":\"Deloitte\"}\n",
            "{\"title\":\"Worldwide Adobe Experience Cloud Professional Services\",\"body\":\"Deloitte has been positioned as a Leader in the 2024-2025 IDC MarketScape Vendor Assessment for Worldwide Adobe Experience Cloud Professional Services. Deloitte is recognized as a \\u201cworldwide services provider that combines a strong heritage in business consulting with broad and deep IT services capabilities\\u201d delivering Adobe-focused professional services through Deloitte Digital, its sub-brand. \\u201cIDC estimates that Deloitte Digital dedicates more than 2,000 FTEs to Adobe Experience Cloud and has approximately 10,000 Adobe-related practitioners globally.\",\"date\":\"04 Feb. 2025\",\"link\":\"https:\\/\\/www.deloitte.com\\/global\\/en\\/about\\/press-room\\/worldwide-adobe-experience-cloud-professional-services.html\",\"company\":\"Deloitte\"}\n",
            "{\"title\":\"Deloitte\\u2019s Tracking the trends 2025 report explores how new leadership approaches may be required to cultivate resilience in the mining and metals industry\",\"body\":\"The 17th annual edition of Deloitte\\u2019s Tracking the trends 2025 report, explores key trends facing mining and metals companies and how new leadership approaches may be needed to capitalize on emerging opportunities and cultivate resilience.\",\"date\":\"29 Jan. 2025\",\"link\":\"https:\\/\\/www.deloitte.com\\/global\\/en\\/about\\/press-room\\/tracking-the-trends-report-2025.html\",\"company\":\"Deloitte\"}\n",
            "{\"title\":\"Industry Cloud Professional Services by IDC MarketScape\",\"body\":\"Deloitte was recently positioned in the Leaders category of the IDC MarketScape: Industry Cloud Professional Services 2024 Vendor Assessment. This report evaluates vendors in the industry cloud professional services market, and it is the second time in which Deloitte has been named a Leader in the report for this market.\",\"date\":\"21 Jan. 2025\",\"link\":\"https:\\/\\/www.deloitte.com\\/global\\/en\\/about\\/press-room\\/industry-cloud-professional-services-by-idc-marketscape.html\",\"company\":\"Deloitte\"}\n",
            "{\"title\":\"Deloitte recognized as a Leader in the inaugural 2024 Gartner\\u00ae Magic Quadrant\\u2122 and scores highest in 3 Use Cases in the Critical Capabilities Report for Digital Experience Services\",\"body\":\"Gartner\\u00ae, a company that delivers actionable, objective insights to executives and their teams, has recognized Deloitte as a Leader in the inaugural 2024 Gartner Magic Quadrant\\u2122 for Digital Experience Services.\",\"date\":\"17 Dec. 2024\",\"link\":\"https:\\/\\/www.deloitte.com\\/global\\/en\\/about\\/press-room\\/gartner-magic-quadrant-highest-critical-capabilities-report-digital-experience-services.html\",\"company\":\"Deloitte\"}\n",
            "{\"title\":\"Deloitte recognized by Gartner\\u00ae Magic Quadrant\\u2122 and Critical Capabilities for Cloud ERP Services for a second consecutive year\",\"body\":\"Gartner\\u00ae, which produces actionable, objective insights for executives and their teams, has recognized Deloitte as a Leader in its 2024 Gartner Magic Quadrant\\u2122 for Cloud Enterprise Resource Planning (ERP) Services for a second year\",\"date\":\"09 Dec. 2024\",\"link\":\"https:\\/\\/www.deloitte.com\\/global\\/en\\/about\\/press-room\\/cloud-erp-services-for-a-second-consecutive-year.html\",\"company\":\"Deloitte\"}\n",
            "{\"title\":\"Deloitte\\u2019s first Disability Inclusion @ Work 2024 survey reveals that workplace accessibility is a significant challenge for many\",\"body\":\"One-quarter of respondents who have disclosed their disability, neurodivergence or health condition at work have requested accommodations. Of those, 74% have had at least one request rejected; almost two in 10 have had all their requests rejected.\",\"date\":\"03 Dec. 2024\",\"link\":\"https:\\/\\/www.deloitte.com\\/global\\/en\\/about\\/press-room\\/deloittes-first-disability-inclusion-work-2024.html\",\"company\":\"Deloitte\"}\n",
            "{\"title\":\"Deloitte Global\\u2019s 2025 Predictions Report: Generative AI: Paving the Way for a transformative future in Technology, Media, and Telecommunications\",\"body\":\"\",\"date\":\"19 Nov. 2024\",\"link\":\"https:\\/\\/www.deloitte.com\\/global\\/en\\/about\\/press-room\\/deloitte-globals-2025-predictions-report.html\",\"company\":\"Deloitte\"}\n",
            "{\"title\":\"Global sustainable food system\",\"body\":\"climate change, sustainably transforming global food production\",\"date\":\"18 Nov. 2024\",\"link\":\"https:\\/\\/www.deloitte.com\\/global\\/en\\/about\\/press-room\\/global-sustainable-food-system.html\",\"company\":\"Deloitte\"}\n",
            "{\"title\":\"2025 ITR World Tax Leaders Rankings: Celebrating the recognition of 662 Deloitte practitioners\",\"body\":\"NEW YORK, NY, USA, 15 November 2024 \\u2013 Deloitte celebrates the recognition from International Tax Review (ITR) of 662 Deloitte professionals for their leadership in Tax and Transfer Pricing, as featured in the latest 2025 ITR World Tax guide.\",\"date\":\"15 Nov. 2024\",\"link\":\"https:\\/\\/www.deloitte.com\\/global\\/en\\/about\\/press-room\\/celebrating-the-recognition-of-662-deloitte-practitioners.html\",\"company\":\"Deloitte\"}\n",
            "{\"title\":\"Deloitte Global\\u2019s Future of Cyber survey\",\"body\":\"Deloitte Global released the fourth edition of the Global Future of Cyber survey, which found that cybersecurity is increasingly becoming a cornerstone of many organizations\\u2019 growth strategies and business plans amidst today\\u2019s advanced and complex threat landscape.\",\"date\":\"21 Oct. 2024\",\"link\":\"https:\\/\\/www.deloitte.com\\/global\\/en\\/about\\/press-room\\/deloitte-global-future-cyber-survey.html\",\"company\":\"Deloitte\"}\n",
            "{\"title\":\"Microsoft Intelligent Manufacturing Award 2025: Beste L\\u00f6sungen f\\u00fcr Operations zusammen mit Roland Berger ausgezeichnet\",\"body\":\"Es ist wieder so weit: Die Gewinner des Microsoft Intelligent Manufacturing Award (MIMA) f\\u00fcr 2025 stehen fest und pr\\u00e4sentieren sich auf der Website www.MIMAwinners2025.com. Der begehrte Preis, den Microsoft Deutschland zusammen mit der Strategieberatung Roland Berger verleiht, zeichnet innovative Manufacturing-Unternehmen aus. In diesem Jahr pr\\u00e4miert der MIMA bereits zum sechsten Mal wegweisende L\",\"date\":\"11. M\\u00e4rz 2025 10:00\",\"link\":\"https:\\/\\/rolandberger.mynewsdesk.com\\/pressreleases\\/microsoft-intelligent-manufacturing-award-2025-beste-loesungen-fuer-operations-zusammen-mit-roland-berger-ausgezeichnet-3375300\",\"company\":\"Roland Berger\"}\n",
            "{\"title\":\"Personalie: Dr. Julia Sosnizka wird Global Head of Marketing & Communications bei Roland Berger\",\"body\":\"Roland Berger st\\u00e4rkt seine globale Marketing- und Kommunikationsstrategie: Dr. Julia Sosnizka \\u00fcbernimmt ab sofort als Global Head of Marketing & Communications die weltweite Positionierung der Unternehmensberatung. Sie wechselt von der Boston Consulting Group (BCG) und bringt umfassende Erfahrung in strategischer Kommunikation, Markenf\\u00fchrung und digitaler Transformation mit.\",\"date\":\"4. M\\u00e4rz 2025 11:16\",\"link\":\"https:\\/\\/rolandberger.mynewsdesk.com\\/pressreleases\\/personalie-dr-julia-sosnizka-wird-global-head-of-marketing-und-communications-bei-roland-berger-3372557\",\"company\":\"Roland Berger\"}\n",
            "{\"title\":\"Studie: Unternehmen in Deutschland investieren weiter in ihre Belegschaft und erh\\u00f6hen auch 2025 signifikant ihre Mitarbeiter-Benefits\",\"body\":\"Study DownloadRoland Berger f\\u00fchrt mit \\u00fcber 1.700 Befragten, die bislang gr\\u00f6\\u00dfte Marktanalyse zu Employee Benefits mit Fokus auf Personalverantwortliche in Deutschland durch\\n\\u00dcber 80 Prozent empfinden den Markt f\\u00fcr Mitarbeiterzusatzleistungen als intransparent; viele kennen die steuerlichen Regularien nur unzureichend\\nIm Durchschnitt bieten Unternehmen ihren Mitarbeitern 6,6 Benefits an; 2025 p\",\"date\":\"25. Februar 2025 09:00\",\"link\":\"https:\\/\\/rolandberger.mynewsdesk.com\\/pressreleases\\/studie-unternehmen-in-deutschland-investieren-weiter-in-ihre-belegschaft-und-erhoehen-auch-2025-signifikant-ihre-mitarbeiter-benefits-3371649\",\"company\":\"Roland Berger\"}\n",
            "{\"title\":\"Globaler Batteriemarkt w\\u00e4chst trotz Unsicherheiten weiter stark und bietet Chancen f\\u00fcr europ\\u00e4ische Hersteller\",\"body\":\"Study DownloadBattery Monitor 2024\\/2025 von Roland Berger und RWTH Aachen: Bedarf verdreifacht sich bis 2030 auf bis zu 4,6 Terawattstunden; weitere Verdoppelung bis 2040\\nEuropas Markt ist gepr\\u00e4gt vom Preiskampf asiatischer Hersteller; zudem lokale \\u00dcberkapazit\\u00e4ten durch zu optimistische Bedarfsannahmen\\nNeue europ\\u00e4ische Akteure m\\u00fcssen zeigen, dass sie hochwertige Batteriezellen zu niedrigen K\",\"date\":\"7. Februar 2025 08:59\",\"link\":\"https:\\/\\/rolandberger.mynewsdesk.com\\/pressreleases\\/globaler-batteriemarkt-waechst-trotz-unsicherheiten-weiter-stark-und-bietet-chancen-fuer-europaeische-hersteller-3368519\",\"company\":\"Roland Berger\"}\n",
            "{\"title\":\"Roland Berger Stiftung f\\u00fcr europ\\u00e4ische Unternehmensf\\u00fchrung honoriert Bachelorarbeit zur Nutzung von Elektroautos als Stromspeicher\",\"body\":\"M\\u00fcnchen, Januar 2025: Zum neunten Mal hat die Roland Berger Stiftung f\\u00fcr europ\\u00e4ische Unternehmensf\\u00fchrung den Preis f\\u00fcr die beste Bachelorarbeit vergeben. In diesem Jahr wurde Kevin Krasnikov f\\u00fcr seine Arbeit mit dem Titel \\u201eAnalyse der Wirtschaftlichkeitspotenziale der Vehicle-to-Grid-Technologie auf Stromm\\u00e4rkten\\u201c ausgezeichnet, die er am Karlsruhe Institute of Technology (KIT) verfasst hat. Die Au\",\"date\":\"20. Januar 2025 16:00\",\"link\":\"https:\\/\\/rolandberger.mynewsdesk.com\\/pressreleases\\/roland-berger-stiftung-fuer-europaeische-unternehmensfuehrung-honoriert-bachelorarbeit-zur-nutzung-von-elektroautos-als-stromspeicher-3364886\",\"company\":\"Roland Berger\"}\n",
            "{\"title\":\"Offshore-Windbranche: Standards f\\u00fcr Turbinen unverzichtbar, um Kosten zu senken und Ausbautempo zu steigern\",\"body\":\"Analyse von Roland Berger: Kostenvorteil gr\\u00f6\\u00dferer Turbinen schwindet, Nachteile f\\u00fcr Lieferketten und Effizienz nehmen zu\\nUm Ausbauziel von 120 Gigawatt bis 2030 zu erreichen, muss die Industrie ihre Kapazit\\u00e4ten auf 20 Gigawatt pro Jahr verdreifachen und \\u00fcber 5.000 zus\\u00e4tzliche Windkraftanlagen installieren\\nStandards f\\u00fcr Turbinengr\\u00f6\\u00dfe und definierte Steigerungsschritte verl\\u00e4ngern\",\"date\":\"2. Dezember 2024 08:42\",\"link\":\"https:\\/\\/rolandberger.mynewsdesk.com\\/pressreleases\\/offshore-windbranche-standards-fuer-turbinen-unverzichtbar-um-kosten-zu-senken-und-ausbautempo-zu-steigern-3357599\",\"company\":\"Roland Berger\"}\n",
            "{\"title\":\"K\\u00fcnstliche Intelligenz ver\\u00e4ndert die Gesundheitsbranche massiv \\u2013 Unternehmen f\\u00fchlen sich nicht gut vorbereitet\",\"body\":\"Umfrage von Roland Berger unter Managern der Gesundheitsbranche: Fast alle (94%) erwartenstarke oder sehr starke Auswirkungen von KI\\nDreiviertel nutzen KI regelm\\u00e4\\u00dfig, aber nur 15 Prozent haben die Technologie in Standardprozesse integriert\\nUnternehmen engagieren sich und investieren, doch nur 29 Prozent f\\u00fchlen sich gut vorbereitet, um KI f\\u00fcr Wettbewerbsvorteile zu nutzen\",\"date\":\"20. November 2024 09:21\",\"link\":\"https:\\/\\/rolandberger.mynewsdesk.com\\/pressreleases\\/kuenstliche-intelligenz-veraendert-die-gesundheitsbranche-massiv-unternehmen-fuehlen-sich-nicht-gut-vorbereitet-3355483\",\"company\":\"Roland Berger\"}\n",
            "{\"title\":\"PwC Network statement on SSFA firms exit\",\"body\":\"Following a strategic review, the PwC firms in C\\u00f4te d\\u2019Ivoire, Gabon, Cameroon, the Democratic Republic of Congo (DRC), Republic of Congo (Congo), Madagascar, Republic of Guinea, Senegal and Equatorial Guinea (the PwC Sub-Saharan Francophone Africa firms) have separated and will no longer be part of the PwC network.\",\"date\":\"31 Mar 2025\",\"link\":\"https:\\/\\/www.pwc.com\\/gx\\/en\\/news-room\\/press-releases\\/2025\\/pwc-network-statement-on-ssfa-firms-exit.html\",\"company\":\"PwC\"}\n",
            "{\"title\":\"C3 AI and PwC Announce Strategic Alliance to Drive Business Transformation Across Critical Industries\",\"body\":\"C3 AI, the leading Enterprise AI application software company, today announced a strategic alliance with PwC, a global leader in professional services, to deploy AI-powered business transformation at enterprise-scale across critical industries.\",\"date\":\"18 Mar 2025\",\"link\":\"https:\\/\\/www.pwc.com\\/gx\\/en\\/news-room\\/press-releases\\/2025\\/drive-business-transformation-across-industries.html\",\"company\":\"PwC\"}\n",
            "{\"title\":\"Global telecoms industry revenue rose 4.3% in 2023 to hit US$1.1 trillion, but faces continuing headwinds \\u2013 even as 5G subscriptions are projected to quadruple by 2028\",\"body\":\"Global telecoms revenue is projected to rise at a CAGR of 2.9% through to 2028, below inflation, even as the sectors total revenue across fixed and mobile verticals rose 4.3% in 2023 to hit US$1.1 trillion, according to PwC\\u2019s Global Telecoms Outlook, published today at Mobile World Congress in Barcelona, Spain (3-6...\",\"date\":\"28 Feb 2025\",\"link\":\"https:\\/\\/www.pwc.com\\/gx\\/en\\/news-room\\/press-releases\\/2025\\/pwc-global-telecoms-outlook.html\",\"company\":\"PwC\"}\n",
            "{\"title\":\"PwC and Microsoft announce strategic collaboration to transform industries with AI agents\",\"body\":\"PwC and Microsoft announced a strategic collaboration aimed at transforming industries with the power of AI agents.\",\"date\":\"30 Jan 2025\",\"link\":\"https:\\/\\/www.pwc.com\\/gx\\/en\\/news-room\\/press-releases\\/2025\\/pwc-and-microsoft-strategic-collaboration.html\",\"company\":\"PwC\"}\n",
            "{\"title\":\"Nearly three-in-five CEOs optimistic about global economic outlook as they plan headcount increases and continued AI rollout: PwC 2025 Global CEO Survey\",\"body\":\"Almost 60% of CEOs around the world expect global economic growth to increase over the next 12 months, according to PwC\\u2019s 28th Annual Global CEO Survey, launched today during the World Economic Forum Annual Meeting.\",\"date\":\"20 Jan 2025\",\"link\":\"https:\\/\\/www.pwc.com\\/gx\\/en\\/news-room\\/press-releases\\/2025\\/pwc-2025-global-ceo-survey.html\",\"company\":\"PwC\"}\n",
            "{\"title\":\"PwC wins Product and Service & Solution awards at International Innovation Awards 2024\",\"body\":\"PwC wins two awards at the 2024 International Innovation Awards for Predictive Analytics and data solutions, enhancing audit quality and efficiency.\",\"date\":\"19 Dec 2024\",\"link\":\"https:\\/\\/www.pwc.com\\/gx\\/en\\/news-room\\/press-releases\\/2024\\/international-innovation-awards-2024.html\",\"company\":\"PwC\"}\n",
            "{\"title\":\"PwC collaborates with Oracle to help organisations address Pillar Two, CSRD and CBAM reporting requirements\",\"body\":\"PwC is leveraging the Oracle Fusion Cloud Applications Suite to unveil new implementation and consulting services to help global businesses simplify and automate the data consolidation and reporting processes to address new reporting standards.\",\"date\":\"18 Dec 2024\",\"link\":\"https:\\/\\/www.pwc.com\\/gx\\/en\\/news-room\\/press-releases\\/2024\\/pwc-collaborates-with-oracle.html\",\"company\":\"PwC\"}\n",
            "{\"title\":\"Investors reject trade-off between workers and AI, as over 70% urge companies to invest in both\",\"body\":\"The pressure is on for companies to turn AI investment into impact, according to PwC\\u2019s 2024 Global Investor Survey, released today. 73% of investors say companies should deploy AI solutions at scale, as overwhelmingly 66% expect the companies they invest in to deliver productivity increases from AI over the next 12...\",\"date\":\"04 Dec 2024\",\"link\":\"https:\\/\\/www.pwc.com\\/gx\\/en\\/news-room\\/press-releases\\/2024\\/pwc-2024-global-investor-survey.html\",\"company\":\"PwC\"}\n",
            "{\"title\":\"PwC, AWS Expand Strategic Alliance to Catalyze Generative-AI powered Transformation for Industry Customers\",\"body\":\"As part of its presence at re:Invent, PwC today announced a strategic collaboration agreement with Amazon Web Services (AWS) to help drive industry innovation using the latest advancements in cloud and generative AI (GenAI) services.\",\"date\":\"03 Dec 2024\",\"link\":\"https:\\/\\/www.pwc.com\\/gx\\/en\\/news-room\\/press-releases\\/2024\\/pwc-aws-expand-strategic-alliance.html\",\"company\":\"PwC\"}\n",
            "{\"title\":\"80% of asset and wealth managers say AI will fuel revenue growth while \\u2018tech-as-a-service\\u2019 could see 12% boost to revenues by 2028\",\"body\":\"Four-fifths (80%) of asset and wealth management (AWM) organisations say disruptive technologies such as AI will fuel revenue growth, with those moving quickly to adopt \\u2018tech-as-a-service' potentially seeing a 12% boost to revenues by 2028, according to PwC analysis.\",\"date\":\"19 Nov 2024\",\"link\":\"https:\\/\\/www.pwc.com\\/gx\\/en\\/news-room\\/press-releases\\/2024\\/pwc-2024-asset-and-wealth-management-report.html\",\"company\":\"PwC\"}\n",
            "{\"title\":\"PwC Appoints Matt Wood as Global Commercial Technology & Innovation Officer\",\"body\":\"PwC has made a significant global leadership appointment that will strengthen its ability to deliver end-to-end capabilities and client-centric solutions. Matt Wood has joined PwC as US and Global Commercial Technology & Innovation Officer and will join the Global Leadership Team.\",\"date\":\"29 Oct 2024\",\"link\":\"https:\\/\\/www.pwc.com\\/gx\\/en\\/news-room\\/press-releases\\/2024\\/pwc-appoints-matt-wood-global-commercial-technology-innovation-officer.html\",\"company\":\"PwC\"}\n",
            "{\"title\":\"PwC global revenues rise to US$55.4 billion\",\"body\":\"For the 12 months ending 30 June 2024, PwC firms around the world reported record gross revenues of US$55.4 billion, growing by 3.7% in local currency and 4.3% in US dollars over the FY23 gross revenues of US$53.1 billion.\",\"date\":\"29 Oct 2024\",\"link\":\"https:\\/\\/www.pwc.com\\/gx\\/en\\/news-room\\/press-releases\\/2024\\/pwc-global-revenues-rise-to-us-55-4-billion.html\",\"company\":\"PwC\"}\n",
            "\n"
          ]
        }
      ]
    },
    {
      "cell_type": "code",
      "source": [
        "# Save DataFrame to Excel\n",
        "output_file_path = \"/content/competitor_newsroom_output.xlsx\"\n",
        "df.to_excel(output_file_path, index=False, engine='openpyxl')"
      ],
      "metadata": {
        "id": "vJW9pAgNZNXh"
      },
      "execution_count": 15,
      "outputs": []
    },
    {
      "cell_type": "code",
      "source": [],
      "metadata": {
        "id": "PplqcVYAkv8z"
      },
      "execution_count": null,
      "outputs": []
    }
  ]
}